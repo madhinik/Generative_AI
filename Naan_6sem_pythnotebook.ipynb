{
  "nbformat": 4,
  "nbformat_minor": 0,
  "metadata": {
    "colab": {
      "provenance": []
    },
    "kernelspec": {
      "name": "python3",
      "display_name": "Python 3"
    },
    "language_info": {
      "name": "python"
    }
  },
  "cells": [
    {
      "cell_type": "code",
      "execution_count": 1,
      "metadata": {
        "id": "AAoEVulaZ9Av"
      },
      "outputs": [],
      "source": [
        "import matplotlib.pyplot as plt\n",
        "import numpy as np\n",
        "import pandas as pd\n",
        "import tensorflow as tf\n",
        "\n",
        "from sklearn.metrics import accuracy_score, precision_score, recall_score\n",
        "from sklearn.model_selection import train_test_split\n",
        "from keras import layers, losses\n",
        "from keras.datasets import mnist\n",
        "from keras.models import Model"
      ]
    },
    {
      "cell_type": "code",
      "source": [
        "(x_train, _), (x_test, _) = mnist.load_data()\n",
        "x_train = x_train.astype('float32') / 255\n",
        "x_test = x_test.astype('float32') / 255\n",
        "print(\"Shape of the training data:\", x_train.shape)\n",
        "print(\"Shape of the testing data:\", x_test.shape)"
      ],
      "metadata": {
        "colab": {
          "base_uri": "https://localhost:8080/"
        },
        "id": "eOMuFZafaWjX",
        "outputId": "a7c13ff8-be60-4d11-c5ea-c4a359be1040"
      },
      "execution_count": 2,
      "outputs": [
        {
          "output_type": "stream",
          "name": "stdout",
          "text": [
            "Downloading data from https://storage.googleapis.com/tensorflow/tf-keras-datasets/mnist.npz\n",
            "11490434/11490434 [==============================] - 0s 0us/step\n",
            "Shape of the training data: (60000, 28, 28)\n",
            "Shape of the testing data: (10000, 28, 28)\n"
          ]
        }
      ]
    },
    {
      "cell_type": "code",
      "source": [
        "class SimpleAutoencoder(tf.keras.Model):\n",
        "    def __init__(self,latent_dimensions , data_shape):\n",
        "        super(SimpleAutoencoder, self).__init__()\n",
        "        self.latent_dimensions = latent_dimensions\n",
        "        self.data_shape = data_shape\n",
        "        self.encoder = tf.keras.Sequential([\n",
        "            layers.Flatten(),\n",
        "            layers.Dense(latent_dimensions, activation='relu'),\n",
        "        ])\n",
        "        self.decoder = tf.keras.Sequential([\n",
        "            layers.Dense(tf.math.reduce_prod(data_shape), activation='sigmoid'),\n",
        "            layers.Reshape(data_shape)\n",
        "        ])\n",
        "    def call(self, input_data):\n",
        "        encoded_data = self.encoder(input_data)\n",
        "        decoded_data = self.decoder(encoded_data)\n",
        "        return decoded_data\n",
        "input_data_shape = x_test.shape[1:]\n",
        "latent_dimensions = 64\n",
        "simple_autoencoder = SimpleAutoencoder(latent_dimensions, input_data_shape)\n",
        "simple_autoencoder.compile(optimizer='adam', loss=losses.MeanSquaredError())\n",
        "simple_autoencoder.fit(x_train, x_train, epochs=1,shuffle=True,validation_data=(x_test, x_test))\n",
        ""
      ],
      "metadata": {
        "colab": {
          "base_uri": "https://localhost:8080/"
        },
        "id": "FkCDnoMtaxV_",
        "outputId": "d588eefc-8f46-4f41-87cb-6996a1777368"
      },
      "execution_count": 19,
      "outputs": [
        {
          "output_type": "stream",
          "name": "stdout",
          "text": [
            "1875/1875 [==============================] - 9s 4ms/step - loss: 0.0240 - val_loss: 0.0094\n"
          ]
        },
        {
          "output_type": "execute_result",
          "data": {
            "text/plain": [
              "<keras.src.callbacks.History at 0x7907e28ed9f0>"
            ]
          },
          "metadata": {},
          "execution_count": 19
        }
      ]
    },
    {
      "cell_type": "code",
      "source": [
        "encoded_imgs = simple_autoencoder.encoder(x_test).numpy()\n",
        "decoded_imgs = simple_autoencoder.decoder(encoded_imgs).numpy()\n",
        "\n",
        "n = 6\n",
        "plt.figure(figsize=(8, 4))\n",
        "for i in range(n):\n",
        "  # display original\n",
        "  ax = plt.subplot(2, n, i + 1)\n",
        "  plt.imshow(x_test[i])\n",
        "  plt.title(\"original\")\n",
        "  plt.gray()\n",
        "\n",
        "  # display reconstruction\n",
        "  ax = plt.subplot(2, n, i + 1 + n)\n",
        "  plt.imshow(decoded_imgs[i])\n",
        "  plt.title(\"reconstructed\")\n",
        "  plt.gray()\n",
        "\n",
        "plt.show()"
      ],
      "metadata": {
        "colab": {
          "base_uri": "https://localhost:8080/",
          "height": 339
        },
        "id": "KB6Hxb3fbccA",
        "outputId": "52d2d9f7-9a06-4fa8-992f-b3fa4700618c"
      },
      "execution_count": 20,
      "outputs": [
        {
          "output_type": "display_data",
          "data": {
            "text/plain": [
              "<Figure size 800x400 with 12 Axes>"
            ],
            "image/png": "[encoded data removed]"
          },
          "metadata": {}
        }
      ]
    },
    {
      "cell_type": "code",
      "source": [],
      "metadata": {
        "id": "rt2Ulq2_jIO0"
      },
      "execution_count": null,
      "outputs": []
    },
    {
      "cell_type": "code",
      "source": [],
      "metadata": {
        "id": "FX-Vln06brN_"
      },
      "execution_count": 20,
      "outputs": []
    },
    {
      "cell_type": "markdown",
      "source": [],
      "metadata": {
        "id": "a1xfT5oyaj9J"
      }
    }
  ]
}